{
 "cells": [
  {
   "cell_type": "code",
   "execution_count": 2,
   "id": "08518ac1",
   "metadata": {},
   "outputs": [
    {
     "name": "stdout",
     "output_type": "stream",
     "text": [
      "ineuron \r\n",
      "ineuron ineuron \r\n",
      "ineuron ineuron ineuron \r\n",
      "ineuron ineuron ineuron ineuron \r\n"
     ]
    }
   ],
   "source": [
    "n=4\n",
    "for i in range(0,4):\n",
    "    for j in range(0,i+1):\n",
    "        print(\"ineuron\",end=\" \")\n",
    "    print(\"\\r\")"
   ]
  },
  {
   "cell_type": "code",
   "execution_count": 7,
   "id": "83300401",
   "metadata": {},
   "outputs": [],
   "source": [
    "d=[[1,2,3,4],(2,3,4,5,6),(3,4,5,6,7),set([23,4,5,45,4,4,5,45,45,4,5]),{'k1':\"sudh\",\"k2\":\"ineuron\",\"k3\":\"kumar\",3:6,7:8},[\"ineuron\",\"data science\"]]"
   ]
  },
  {
   "cell_type": "code",
   "execution_count": 10,
   "id": "25643a1f",
   "metadata": {},
   "outputs": [
    {
     "name": "stdout",
     "output_type": "stream",
     "text": [
      "[1, 2, 3, 4]\n",
      "['ineuron', 'data science']\n"
     ]
    }
   ],
   "source": [
    "for i in d:\n",
    "    if type(i)==list:\n",
    "        print(i)\n",
    "    if type(i)==set or type(i)==tuple:\n",
    "        for j in i:\n",
    "            if type(j)==list:\n",
    "                print(j)  "
   ]
  },
  {
   "cell_type": "code",
   "execution_count": 22,
   "id": "e0b7f0e3",
   "metadata": {},
   "outputs": [
    {
     "name": "stdout",
     "output_type": "stream",
     "text": [
      "{'k1': 'sudh', 'k2': 'ineuron', 'k3': 'kumar', 3: 6, 7: 8}\n"
     ]
    }
   ],
   "source": [
    "for i in d:\n",
    "    if type(i)==dict:\n",
    "        print(i)\n",
    "    if type(i)==tuple:\n",
    "        for j in i:\n",
    "            if type(j)==dict:\n",
    "                print(j)  "
   ]
  },
  {
   "cell_type": "code",
   "execution_count": 23,
   "id": "d2acbda4",
   "metadata": {},
   "outputs": [
    {
     "name": "stdout",
     "output_type": "stream",
     "text": [
      "(2, 3, 4, 5, 6)\n",
      "(3, 4, 5, 6, 7)\n"
     ]
    }
   ],
   "source": [
    "for i in d:\n",
    "    if type(i)==tuple:\n",
    "        print(i)\n",
    "    if type(i)==set or type(i)==tuple:\n",
    "        for j in i:\n",
    "            if type(j)==tuple:\n",
    "                print(j)  "
   ]
  },
  {
   "cell_type": "code",
   "execution_count": 35,
   "id": "733ee87f",
   "metadata": {},
   "outputs": [
    {
     "name": "stdout",
     "output_type": "stream",
     "text": [
      "1\n",
      "2\n",
      "3\n",
      "4\n",
      "2\n",
      "3\n",
      "4\n",
      "5\n",
      "6\n",
      "3\n",
      "4\n",
      "5\n",
      "6\n",
      "7\n",
      "45\n",
      "4\n",
      "5\n",
      "23\n",
      "3\n",
      "6\n",
      "7\n",
      "8\n"
     ]
    }
   ],
   "source": [
    "for i in d:\n",
    "    if type(i)==int:\n",
    "        print(i)\n",
    "    if type(i)==set or type(i)==tuple or type(i)==list:\n",
    "        for j in i:\n",
    "            if type(j)==int:\n",
    "                print(j)  \n",
    "    if type(i)==dict:\n",
    "        for m,n in i.items():\n",
    "            if type(m)==int or type(n)==int:\n",
    "                print(m)\n",
    "                print(n)"
   ]
  },
  {
   "cell_type": "code",
   "execution_count": 81,
   "id": "5fcc4b5a",
   "metadata": {},
   "outputs": [],
   "source": [
    "l1=[]\n",
    "for i in d:\n",
    "    if type(i)==int:\n",
    "        l1==l1.append(i)\n",
    "    if type(i)==set or type(i)==tuple or type(i)==list:\n",
    "        for j in i:\n",
    "            if type(j)==int:\n",
    "                l1==l1.append(j)\n",
    "    if type(i)==dict:\n",
    "        for m,n in i.items():\n",
    "            if type(m)==int or type(n)==int:\n",
    "                l1==l1.append(m)\n",
    "                l1==l1.append(n)\n",
    "            s=sum(l1)\n"
   ]
  },
  {
   "cell_type": "code",
   "execution_count": 94,
   "id": "0fb4be0f",
   "metadata": {},
   "outputs": [
    {
     "data": {
      "text/plain": [
       "156"
      ]
     },
     "execution_count": 94,
     "metadata": {},
     "output_type": "execute_result"
    }
   ],
   "source": [
    "s"
   ]
  },
  {
   "cell_type": "code",
   "execution_count": 109,
   "id": "dedd2b22",
   "metadata": {},
   "outputs": [],
   "source": [
    "for i in l1:\n",
    "    if (i%2)==0:\n",
    "        l1==l1.remove(i)"
   ]
  },
  {
   "cell_type": "code",
   "execution_count": 110,
   "id": "40387c2b",
   "metadata": {},
   "outputs": [
    {
     "data": {
      "text/plain": [
       "[1, 3, 3, 5, 3, 5, 7, 45, 5, 23, 3, 7]"
      ]
     },
     "execution_count": 110,
     "metadata": {},
     "output_type": "execute_result"
    }
   ],
   "source": [
    "l1"
   ]
  },
  {
   "cell_type": "code",
   "execution_count": 120,
   "id": "bd348031",
   "metadata": {},
   "outputs": [
    {
     "name": "stdout",
     "output_type": "stream",
     "text": [
      "ineuron\n",
      "ineuron\n"
     ]
    }
   ],
   "source": [
    "for i in d:\n",
    "    if i==\"ineuron\":\n",
    "        print(i)\n",
    "    if type(i)==set or type(i)==tuple or type(i)==list:\n",
    "        for j in i:\n",
    "            if j==\"ineuron\":\n",
    "                print(j)  \n",
    "    if type(i)==dict:\n",
    "        for m in i.keys():\n",
    "            if m==\"ineuron\":\n",
    "                print(m) \n",
    "        for n in i.values():\n",
    "            if n==\"ineuron\":\n",
    "                print(n)\n",
    "        "
   ]
  },
  {
   "cell_type": "code",
   "execution_count": 155,
   "id": "e4a7dcb9",
   "metadata": {},
   "outputs": [
    {
     "name": "stdout",
     "output_type": "stream",
     "text": [
      "[1, 2, 3, 4] count= 1\n",
      "1 : 1\n",
      "2 : 1\n",
      "3 : 1\n",
      "4 : 1\n",
      "(2, 3, 4, 5, 6) count= 1\n",
      "2 : 1\n",
      "3 : 1\n",
      "4 : 1\n",
      "5 : 1\n",
      "6 : 1\n",
      "(3, 4, 5, 6, 7) count= 1\n",
      "3 : 1\n",
      "4 : 1\n",
      "5 : 1\n",
      "6 : 1\n",
      "7 : 1\n",
      "{45, 4, 5, 23} count= 1\n",
      "45 : 1\n",
      "4 : 1\n",
      "5 : 1\n",
      "23 : 1\n",
      "{'k1': 'sudh', 'k2': 'ineuron', 'k3': 'kumar', 3: 6, 7: 8} count= 1\n",
      "sudh : 1\n",
      "ineuron : 1\n",
      "kumar : 1\n",
      "6 : 1\n",
      "8 : 1\n",
      "k1 : 1\n",
      "k2 : 1\n",
      "k3 : 1\n",
      "3 : 1\n",
      "7 : 1\n",
      "['ineuron', 'data science'] count= 1\n",
      "ineuron : 1\n",
      "data science : 1\n"
     ]
    }
   ],
   "source": [
    "for i in d:\n",
    "    print(i, \"count=\", d.count(i))\n",
    "    \n",
    "    if type(i)==list or type(i)==tuple:\n",
    "        for j in i:\n",
    "            print(j,':', i.count(j))\n",
    "    \n",
    "    if type(i)==set:\n",
    "        i=list(i)\n",
    "        for j in i:\n",
    "            print(j,\":\", i.count(j))\n",
    "    \n",
    "    if type(i)==dict:\n",
    "        g=list(i.values())\n",
    "        h=list(i.keys())\n",
    "        for k in g:\n",
    "            print(k,\":\",g.count(k))\n",
    "        for v in h:\n",
    "            print(v,\":\",h.count(v))"
   ]
  },
  {
   "cell_type": "code",
   "execution_count": 194,
   "id": "0cf4e17a",
   "metadata": {},
   "outputs": [
    {
     "name": "stdout",
     "output_type": "stream",
     "text": [
      "5\n"
     ]
    }
   ],
   "source": [
    "for i in d:\n",
    "    if type(i)==dict:\n",
    "        print(len(i))"
   ]
  },
  {
   "cell_type": "code",
   "execution_count": 195,
   "id": "f346f1e1",
   "metadata": {},
   "outputs": [
    {
     "name": "stdout",
     "output_type": "stream",
     "text": [
      "k1\n",
      "k2\n",
      "k3\n",
      "sudh\n",
      "ineuron\n",
      "kumar\n",
      "ineuron\n",
      "data science\n"
     ]
    }
   ],
   "source": [
    "for i in d:\n",
    "    if type(i)==str:\n",
    "        print(i)\n",
    "    if type(i)==tuple or type(i)==list:\n",
    "        for j in i:\n",
    "            if type(j)==str:\n",
    "                print(j)\n",
    "    if type(i)==set:\n",
    "        L=list(i)\n",
    "        for k in L:\n",
    "            if type(k)==str:\n",
    "                print(k)\n",
    "    if type(i)==dict:\n",
    "        M=list(i.keys())\n",
    "        N=list(i.values())\n",
    "        for m in M:\n",
    "            if type(m)==str:\n",
    "                print(m)\n",
    "        for n in N:\n",
    "            if type(n)==str:\n",
    "                print(n)"
   ]
  },
  {
   "cell_type": "code",
   "execution_count": 19,
   "id": "542b871b",
   "metadata": {},
   "outputs": [],
   "source": [
    "d=[[1,2,3,4],(2,3,4,5,6),(3,4,5,6,7),set([23,4,5,45,4,4,5,45,45,4,5]),{'k1':\"sudh\",\"k2\":\"ineuron\",\"k3\":\"kumar\",3:6,7:8},[\"ineuron\",\"datascience\"]]"
   ]
  },
  {
   "cell_type": "code",
   "execution_count": 37,
   "id": "89071fea",
   "metadata": {},
   "outputs": [
    {
     "name": "stdout",
     "output_type": "stream",
     "text": [
      "k1\n",
      "k2\n",
      "k3\n",
      "sudh\n",
      "ineuron\n",
      "kumar\n",
      "ineuron\n"
     ]
    }
   ],
   "source": [
    "for i in d:\n",
    "    if type(i)==list:\n",
    "        for j in i:\n",
    "            if type(j)==str and j.isalnum()==True:\n",
    "                print(j)\n",
    "    if type(i)==dict:\n",
    "        M==list(i.keys())\n",
    "        N==list(i.values())\n",
    "        for m in M:\n",
    "            if type(m)==str and m.isalnum()==True:\n",
    "                print(m)\n",
    "        for n in N:\n",
    "            if type(n)==str and n.isalnum()==True:\n",
    "                print(n)"
   ]
  },
  {
   "cell_type": "code",
   "execution_count": null,
   "id": "18980512",
   "metadata": {},
   "outputs": [],
   "source": []
  },
  {
   "cell_type": "code",
   "execution_count": null,
   "id": "b08510e8",
   "metadata": {},
   "outputs": [],
   "source": []
  }
 ],
 "metadata": {
  "kernelspec": {
   "display_name": "Python 3 (ipykernel)",
   "language": "python",
   "name": "python3"
  },
  "language_info": {
   "codemirror_mode": {
    "name": "ipython",
    "version": 3
   },
   "file_extension": ".py",
   "mimetype": "text/x-python",
   "name": "python",
   "nbconvert_exporter": "python",
   "pygments_lexer": "ipython3",
   "version": "3.9.12"
  }
 },
 "nbformat": 4,
 "nbformat_minor": 5
}
