{
 "cells": [
  {
   "cell_type": "code",
   "execution_count": 1,
   "id": "5d8df79f",
   "metadata": {},
   "outputs": [
    {
     "name": "stdout",
     "output_type": "stream",
     "text": [
      "[2, 3, 5, 7, 11, 13, 17, 19, 23, 29, 31, 37, 41, 43, 47, 53, 59, 61, 67, 71, 73, 79, 83, 89, 97, 101, 103, 107, 109, 113, 127, 131, 137, 139, 149, 151, 157, 163, 167, 173, 179, 181, 191, 193, 197, 199, 211, 223, 227, 229, 233, 239, 241, 251, 257, 263, 269, 271, 277, 281, 283, 293, 307, 311, 313, 317, 331, 337, 347, 349, 353, 359, 367, 373, 379, 383, 389, 397, 401, 409, 419, 421, 431, 433, 439, 443, 449, 457, 461, 463, 467, 479, 487, 491, 499, 503, 509, 521, 523, 541, 547, 557, 563, 569, 571, 577, 587, 593, 599, 601, 607, 613, 617, 619, 631, 641, 643, 647, 653, 659, 661, 673, 677, 683, 691, 701, 709, 719, 727, 733, 739, 743, 751, 757, 761, 769, 773, 787, 797, 809, 811, 821, 823, 827, 829, 839, 853, 857, 859, 863, 877, 881, 883, 887, 907, 911, 919, 929, 937, 941, 947, 953, 967, 971, 977, 983, 991, 997]\n"
     ]
    }
   ],
   "source": [
    "p=[]\n",
    "for n in range (1,1000):  \n",
    "    if n > 1:  \n",
    "        for i in range (2, n):  \n",
    "            if (n % i) == 0:  \n",
    "                break  \n",
    "        else:\n",
    "            p.append(n)\n",
    "print(p)\n",
    "             "
   ]
  },
  {
   "cell_type": "code",
   "execution_count": 2,
   "id": "80be8bbf",
   "metadata": {},
   "outputs": [],
   "source": [
    "def prin(n):\n",
    "    return n"
   ]
  },
  {
   "cell_type": "code",
   "execution_count": 3,
   "id": "c0dacc80",
   "metadata": {},
   "outputs": [],
   "source": [
    "def append(x,l=[1,2,3]):\n",
    "    l1=l+[x]\n",
    "    return l1"
   ]
  },
  {
   "cell_type": "code",
   "execution_count": 4,
   "id": "5146dbba",
   "metadata": {},
   "outputs": [
    {
     "data": {
      "text/plain": [
       "[3, 4, 5, 6, 1]"
      ]
     },
     "execution_count": 4,
     "metadata": {},
     "output_type": "execute_result"
    }
   ],
   "source": [
    "append(1,[3,4,5,6])"
   ]
  },
  {
   "cell_type": "code",
   "execution_count": 5,
   "id": "f9347122",
   "metadata": {},
   "outputs": [],
   "source": [
    "def extend(s=\"deep\",l=[1,23,2]):\n",
    "    for i in range(len(s)):\n",
    "        l=l+[s[i]]\n",
    "        i=i+1\n",
    "    return l\n"
   ]
  },
  {
   "cell_type": "code",
   "execution_count": 6,
   "id": "8f27cf69",
   "metadata": {},
   "outputs": [
    {
     "data": {
      "text/plain": [
       "[1, 23, 2, 67, 'p', 'o', 'p']"
      ]
     },
     "execution_count": 6,
     "metadata": {},
     "output_type": "execute_result"
    }
   ],
   "source": [
    "extend(\"pop\",l=[1,23,2,67])"
   ]
  },
  {
   "cell_type": "code",
   "execution_count": 7,
   "id": "236032f0",
   "metadata": {},
   "outputs": [],
   "source": [
    "def pop(k,l=[2,3,4]):\n",
    "    for i in range(len(l)):\n",
    "        l[i]=l[k]\n",
    "    return l[k]\n",
    "    "
   ]
  },
  {
   "cell_type": "code",
   "execution_count": 8,
   "id": "987860a5",
   "metadata": {},
   "outputs": [
    {
     "data": {
      "text/plain": [
       "8"
      ]
     },
     "execution_count": 8,
     "metadata": {},
     "output_type": "execute_result"
    }
   ],
   "source": [
    "pop(4,[9,0,6,5,8,9])"
   ]
  },
  {
   "cell_type": "code",
   "execution_count": 9,
   "id": "1c1e728d",
   "metadata": {},
   "outputs": [],
   "source": [
    "l= lambda : [ i*i for i in range(1,100)]"
   ]
  },
  {
   "cell_type": "code",
   "execution_count": 10,
   "id": "c895bb48",
   "metadata": {},
   "outputs": [
    {
     "data": {
      "text/plain": [
       "[1,\n",
       " 4,\n",
       " 9,\n",
       " 16,\n",
       " 25,\n",
       " 36,\n",
       " 49,\n",
       " 64,\n",
       " 81,\n",
       " 100,\n",
       " 121,\n",
       " 144,\n",
       " 169,\n",
       " 196,\n",
       " 225,\n",
       " 256,\n",
       " 289,\n",
       " 324,\n",
       " 361,\n",
       " 400,\n",
       " 441,\n",
       " 484,\n",
       " 529,\n",
       " 576,\n",
       " 625,\n",
       " 676,\n",
       " 729,\n",
       " 784,\n",
       " 841,\n",
       " 900,\n",
       " 961,\n",
       " 1024,\n",
       " 1089,\n",
       " 1156,\n",
       " 1225,\n",
       " 1296,\n",
       " 1369,\n",
       " 1444,\n",
       " 1521,\n",
       " 1600,\n",
       " 1681,\n",
       " 1764,\n",
       " 1849,\n",
       " 1936,\n",
       " 2025,\n",
       " 2116,\n",
       " 2209,\n",
       " 2304,\n",
       " 2401,\n",
       " 2500,\n",
       " 2601,\n",
       " 2704,\n",
       " 2809,\n",
       " 2916,\n",
       " 3025,\n",
       " 3136,\n",
       " 3249,\n",
       " 3364,\n",
       " 3481,\n",
       " 3600,\n",
       " 3721,\n",
       " 3844,\n",
       " 3969,\n",
       " 4096,\n",
       " 4225,\n",
       " 4356,\n",
       " 4489,\n",
       " 4624,\n",
       " 4761,\n",
       " 4900,\n",
       " 5041,\n",
       " 5184,\n",
       " 5329,\n",
       " 5476,\n",
       " 5625,\n",
       " 5776,\n",
       " 5929,\n",
       " 6084,\n",
       " 6241,\n",
       " 6400,\n",
       " 6561,\n",
       " 6724,\n",
       " 6889,\n",
       " 7056,\n",
       " 7225,\n",
       " 7396,\n",
       " 7569,\n",
       " 7744,\n",
       " 7921,\n",
       " 8100,\n",
       " 8281,\n",
       " 8464,\n",
       " 8649,\n",
       " 8836,\n",
       " 9025,\n",
       " 9216,\n",
       " 9409,\n",
       " 9604,\n",
       " 9801]"
      ]
     },
     "execution_count": 10,
     "metadata": {},
     "output_type": "execute_result"
    }
   ],
   "source": [
    "l()"
   ]
  },
  {
   "cell_type": "code",
   "execution_count": 11,
   "id": "07c32620",
   "metadata": {},
   "outputs": [],
   "source": [
    "s1= lambda x,y:x+y"
   ]
  },
  {
   "cell_type": "code",
   "execution_count": 12,
   "id": "0463f807",
   "metadata": {},
   "outputs": [
    {
     "data": {
      "text/plain": [
       "'deeppooj'"
      ]
     },
     "execution_count": 12,
     "metadata": {},
     "output_type": "execute_result"
    }
   ],
   "source": [
    "s1(\"deep\",\"pooj\")"
   ]
  },
  {
   "cell_type": "code",
   "execution_count": 13,
   "id": "869f8515",
   "metadata": {},
   "outputs": [],
   "source": [
    "s2= lambda x ,y: x*y"
   ]
  },
  {
   "cell_type": "code",
   "execution_count": 14,
   "id": "da3a17cf",
   "metadata": {},
   "outputs": [
    {
     "data": {
      "text/plain": [
       "12"
      ]
     },
     "execution_count": 14,
     "metadata": {},
     "output_type": "execute_result"
    }
   ],
   "source": [
    "s2(3,4)\n"
   ]
  },
  {
   "cell_type": "code",
   "execution_count": 15,
   "id": "c6fba994",
   "metadata": {},
   "outputs": [],
   "source": [
    "s3= lambda :[i*2 for i in range(10)]"
   ]
  },
  {
   "cell_type": "code",
   "execution_count": 16,
   "id": "5b34ead5",
   "metadata": {},
   "outputs": [
    {
     "data": {
      "text/plain": [
       "[0, 2, 4, 6, 8, 10, 12, 14, 16, 18]"
      ]
     },
     "execution_count": 16,
     "metadata": {},
     "output_type": "execute_result"
    }
   ],
   "source": [
    "s3()"
   ]
  },
  {
   "cell_type": "code",
   "execution_count": 17,
   "id": "ca41c9fa",
   "metadata": {},
   "outputs": [],
   "source": [
    "s4= lambda : [i/2 for i in range(2,100,2)]"
   ]
  },
  {
   "cell_type": "code",
   "execution_count": 136,
   "id": "ab49045c",
   "metadata": {},
   "outputs": [
    {
     "data": {
      "text/plain": [
       "[1.0,\n",
       " 2.0,\n",
       " 3.0,\n",
       " 4.0,\n",
       " 5.0,\n",
       " 6.0,\n",
       " 7.0,\n",
       " 8.0,\n",
       " 9.0,\n",
       " 10.0,\n",
       " 11.0,\n",
       " 12.0,\n",
       " 13.0,\n",
       " 14.0,\n",
       " 15.0,\n",
       " 16.0,\n",
       " 17.0,\n",
       " 18.0,\n",
       " 19.0,\n",
       " 20.0,\n",
       " 21.0,\n",
       " 22.0,\n",
       " 23.0,\n",
       " 24.0,\n",
       " 25.0,\n",
       " 26.0,\n",
       " 27.0,\n",
       " 28.0,\n",
       " 29.0,\n",
       " 30.0,\n",
       " 31.0,\n",
       " 32.0,\n",
       " 33.0,\n",
       " 34.0,\n",
       " 35.0,\n",
       " 36.0,\n",
       " 37.0,\n",
       " 38.0,\n",
       " 39.0,\n",
       " 40.0,\n",
       " 41.0,\n",
       " 42.0,\n",
       " 43.0,\n",
       " 44.0,\n",
       " 45.0,\n",
       " 46.0,\n",
       " 47.0,\n",
       " 48.0,\n",
       " 49.0]"
      ]
     },
     "execution_count": 136,
     "metadata": {},
     "output_type": "execute_result"
    }
   ],
   "source": [
    "s4()"
   ]
  },
  {
   "cell_type": "code",
   "execution_count": 147,
   "id": "ca31ef12",
   "metadata": {},
   "outputs": [],
   "source": [
    "s5=lambda:[ i/3 for i in range(99,1,-3)]\n",
    "    "
   ]
  },
  {
   "cell_type": "code",
   "execution_count": 148,
   "id": "9c1353c0",
   "metadata": {},
   "outputs": [
    {
     "data": {
      "text/plain": [
       "[33.0,\n",
       " 32.0,\n",
       " 31.0,\n",
       " 30.0,\n",
       " 29.0,\n",
       " 28.0,\n",
       " 27.0,\n",
       " 26.0,\n",
       " 25.0,\n",
       " 24.0,\n",
       " 23.0,\n",
       " 22.0,\n",
       " 21.0,\n",
       " 20.0,\n",
       " 19.0,\n",
       " 18.0,\n",
       " 17.0,\n",
       " 16.0,\n",
       " 15.0,\n",
       " 14.0,\n",
       " 13.0,\n",
       " 12.0,\n",
       " 11.0,\n",
       " 10.0,\n",
       " 9.0,\n",
       " 8.0,\n",
       " 7.0,\n",
       " 6.0,\n",
       " 5.0,\n",
       " 4.0,\n",
       " 3.0,\n",
       " 2.0,\n",
       " 1.0]"
      ]
     },
     "execution_count": 148,
     "metadata": {},
     "output_type": "execute_result"
    }
   ],
   "source": [
    "s5()"
   ]
  },
  {
   "cell_type": "code",
   "execution_count": 18,
   "id": "f9fd58e8",
   "metadata": {},
   "outputs": [],
   "source": [
    "s6= lambda s: [s[i] for i in range(len(s))]"
   ]
  },
  {
   "cell_type": "code",
   "execution_count": 19,
   "id": "4065d7b5",
   "metadata": {},
   "outputs": [
    {
     "data": {
      "text/plain": [
       "['p', 'o', 'o', 'j', 'a']"
      ]
     },
     "execution_count": 19,
     "metadata": {},
     "output_type": "execute_result"
    }
   ],
   "source": [
    "s6(\"pooja\")"
   ]
  },
  {
   "cell_type": "code",
   "execution_count": 20,
   "id": "d6db68b6",
   "metadata": {},
   "outputs": [],
   "source": [
    "s7=lambda h: set([(h[i]) for i in range(len(h)) if h[i] in \"aeiou\"])"
   ]
  },
  {
   "cell_type": "code",
   "execution_count": 28,
   "id": "a19d963d",
   "metadata": {},
   "outputs": [
    {
     "data": {
      "text/plain": [
       "{'a', 'e', 'i', 'u'}"
      ]
     },
     "execution_count": 28,
     "metadata": {},
     "output_type": "execute_result"
    }
   ],
   "source": [
    "s7('i am a student')\n"
   ]
  },
  {
   "cell_type": "code",
   "execution_count": 21,
   "id": "eba252e5",
   "metadata": {},
   "outputs": [],
   "source": [
    "s8=lambda t : t.keys()"
   ]
  },
  {
   "cell_type": "code",
   "execution_count": 22,
   "id": "29e71ef4",
   "metadata": {},
   "outputs": [
    {
     "data": {
      "text/plain": [
       "dict_keys(['k1', 'k2'])"
      ]
     },
     "execution_count": 22,
     "metadata": {},
     "output_type": "execute_result"
    }
   ],
   "source": [
    "s8({\"k1\":7,\"k2\":8})"
   ]
  },
  {
   "cell_type": "code",
   "execution_count": 23,
   "id": "202914b5",
   "metadata": {},
   "outputs": [],
   "source": [
    "s9=lambda g: len(g)"
   ]
  },
  {
   "cell_type": "code",
   "execution_count": 24,
   "id": "1948cddc",
   "metadata": {},
   "outputs": [
    {
     "data": {
      "text/plain": [
       "(5, 6, 5)"
      ]
     },
     "execution_count": 24,
     "metadata": {},
     "output_type": "execute_result"
    }
   ],
   "source": [
    "s9((1,3,4,5,5)),s9(\"doctor\"),s9([4,5,6,7,8])\n"
   ]
  },
  {
   "cell_type": "code",
   "execution_count": 25,
   "id": "19794c96",
   "metadata": {},
   "outputs": [],
   "source": [
    "s10=lambda n : [i for i in range(n) if i%6==0]"
   ]
  },
  {
   "cell_type": "code",
   "execution_count": 27,
   "id": "6720a621",
   "metadata": {},
   "outputs": [
    {
     "data": {
      "text/plain": [
       "[0, 6, 12, 18, 24, 30, 36, 42]"
      ]
     },
     "execution_count": 27,
     "metadata": {},
     "output_type": "execute_result"
    }
   ],
   "source": [
    "s10(45)"
   ]
  },
  {
   "cell_type": "code",
   "execution_count": null,
   "id": "f5ce1756",
   "metadata": {},
   "outputs": [],
   "source": []
  }
 ],
 "metadata": {
  "kernelspec": {
   "display_name": "Python 3 (ipykernel)",
   "language": "python",
   "name": "python3"
  },
  "language_info": {
   "codemirror_mode": {
    "name": "ipython",
    "version": 3
   },
   "file_extension": ".py",
   "mimetype": "text/x-python",
   "name": "python",
   "nbconvert_exporter": "python",
   "pygments_lexer": "ipython3",
   "version": "3.9.12"
  }
 },
 "nbformat": 4,
 "nbformat_minor": 5
}
